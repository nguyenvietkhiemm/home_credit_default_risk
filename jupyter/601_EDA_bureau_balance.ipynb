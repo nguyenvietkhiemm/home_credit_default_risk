{
 "cells": [
  {
   "cell_type": "code",
   "execution_count": 5,
   "metadata": {},
   "outputs": [
    {
     "data": {
      "text/plain": [
       "<module 'helpers.EDA' from 'd:\\\\Data Science\\\\helpers\\\\EDA.py'>"
      ]
     },
     "execution_count": 5,
     "metadata": {},
     "output_type": "execute_result"
    }
   ],
   "source": [
    "import pandas as pd\n",
    "import numpy as np\n",
    "import matplotlib as plt\n",
    "import seaborn as sns\n",
    "import importlib\n",
    "\n",
    "from IPython.display import display\n",
    "pd.set_option('display.max_columns', 99)\n",
    "pd.set_option('display.max_rows', 200)\n",
    "pd.set_option('display.float_format', '{:.3f}'.format)\n",
    "pd.set_option('display.max_colwidth', None)\n",
    "\n",
    "from sitecustomize import ROOT # lib này được khởi tạo ban đầu dự án\n",
    "\n",
    "import helpers.view as view\n",
    "import helpers.EDA as EDA\n",
    "\n",
    "importlib.reload(view)\n",
    "importlib.reload(EDA)"
   ]
  },
  {
   "cell_type": "markdown",
   "metadata": {},
   "source": [
    "# bureau balance"
   ]
  },
  {
   "cell_type": "code",
   "execution_count": 2,
   "metadata": {},
   "outputs": [],
   "source": [
    "bureau_balance = pd.read_pickle(ROOT + \"/data/pkl/bureau_balance.p\")"
   ]
  },
  {
   "cell_type": "code",
   "execution_count": 3,
   "metadata": {},
   "outputs": [
    {
     "data": {
      "text/html": [
       "<div>\n",
       "<style scoped>\n",
       "    .dataframe tbody tr th:only-of-type {\n",
       "        vertical-align: middle;\n",
       "    }\n",
       "\n",
       "    .dataframe tbody tr th {\n",
       "        vertical-align: top;\n",
       "    }\n",
       "\n",
       "    .dataframe thead th {\n",
       "        text-align: right;\n",
       "    }\n",
       "</style>\n",
       "<table border=\"1\" class=\"dataframe\">\n",
       "  <thead>\n",
       "    <tr style=\"text-align: right;\">\n",
       "      <th></th>\n",
       "      <th>SK_ID_BUREAU</th>\n",
       "      <th>MONTHS_BALANCE</th>\n",
       "      <th>STATUS</th>\n",
       "    </tr>\n",
       "  </thead>\n",
       "  <tbody>\n",
       "    <tr>\n",
       "      <th>0</th>\n",
       "      <td>5715448</td>\n",
       "      <td>0</td>\n",
       "      <td>C</td>\n",
       "    </tr>\n",
       "    <tr>\n",
       "      <th>1</th>\n",
       "      <td>5715448</td>\n",
       "      <td>-1</td>\n",
       "      <td>C</td>\n",
       "    </tr>\n",
       "    <tr>\n",
       "      <th>2</th>\n",
       "      <td>5715448</td>\n",
       "      <td>-2</td>\n",
       "      <td>C</td>\n",
       "    </tr>\n",
       "    <tr>\n",
       "      <th>3</th>\n",
       "      <td>5715448</td>\n",
       "      <td>-3</td>\n",
       "      <td>C</td>\n",
       "    </tr>\n",
       "    <tr>\n",
       "      <th>4</th>\n",
       "      <td>5715448</td>\n",
       "      <td>-4</td>\n",
       "      <td>C</td>\n",
       "    </tr>\n",
       "    <tr>\n",
       "      <th>...</th>\n",
       "      <td>...</td>\n",
       "      <td>...</td>\n",
       "      <td>...</td>\n",
       "    </tr>\n",
       "    <tr>\n",
       "      <th>99920</th>\n",
       "      <td>5041336</td>\n",
       "      <td>-47</td>\n",
       "      <td>X</td>\n",
       "    </tr>\n",
       "    <tr>\n",
       "      <th>99921</th>\n",
       "      <td>5041336</td>\n",
       "      <td>-48</td>\n",
       "      <td>X</td>\n",
       "    </tr>\n",
       "    <tr>\n",
       "      <th>99922</th>\n",
       "      <td>5041336</td>\n",
       "      <td>-49</td>\n",
       "      <td>X</td>\n",
       "    </tr>\n",
       "    <tr>\n",
       "      <th>99923</th>\n",
       "      <td>5041336</td>\n",
       "      <td>-50</td>\n",
       "      <td>X</td>\n",
       "    </tr>\n",
       "    <tr>\n",
       "      <th>99924</th>\n",
       "      <td>5041336</td>\n",
       "      <td>-51</td>\n",
       "      <td>X</td>\n",
       "    </tr>\n",
       "  </tbody>\n",
       "</table>\n",
       "<p>27299925 rows × 3 columns</p>\n",
       "</div>"
      ],
      "text/plain": [
       "       SK_ID_BUREAU  MONTHS_BALANCE STATUS\n",
       "0           5715448               0      C\n",
       "1           5715448              -1      C\n",
       "2           5715448              -2      C\n",
       "3           5715448              -3      C\n",
       "4           5715448              -4      C\n",
       "...             ...             ...    ...\n",
       "99920       5041336             -47      X\n",
       "99921       5041336             -48      X\n",
       "99922       5041336             -49      X\n",
       "99923       5041336             -50      X\n",
       "99924       5041336             -51      X\n",
       "\n",
       "[27299925 rows x 3 columns]"
      ]
     },
     "execution_count": 3,
     "metadata": {},
     "output_type": "execute_result"
    }
   ],
   "source": [
    "bureau_balance"
   ]
  },
  {
   "cell_type": "code",
   "execution_count": 12,
   "metadata": {},
   "outputs": [
    {
     "data": {
      "text/html": [
       "<div>\n",
       "<style scoped>\n",
       "    .dataframe tbody tr th:only-of-type {\n",
       "        vertical-align: middle;\n",
       "    }\n",
       "\n",
       "    .dataframe tbody tr th {\n",
       "        vertical-align: top;\n",
       "    }\n",
       "\n",
       "    .dataframe thead th {\n",
       "        text-align: right;\n",
       "    }\n",
       "</style>\n",
       "<table border=\"1\" class=\"dataframe\">\n",
       "  <thead>\n",
       "    <tr style=\"text-align: right;\">\n",
       "      <th></th>\n",
       "      <th>MyUnknownColumn</th>\n",
       "      <th>Table</th>\n",
       "      <th>Row</th>\n",
       "      <th>Description</th>\n",
       "      <th>Special</th>\n",
       "    </tr>\n",
       "  </thead>\n",
       "  <tbody>\n",
       "    <tr>\n",
       "      <th>139</th>\n",
       "      <td>142</td>\n",
       "      <td>bureau_balance</td>\n",
       "      <td>SK_BUREAU_ID</td>\n",
       "      <td>Recoded ID of Credit Bureau credit (unique coding for each application) - use this to join to CREDIT_BUREAU table</td>\n",
       "      <td>hashed</td>\n",
       "    </tr>\n",
       "    <tr>\n",
       "      <th>140</th>\n",
       "      <td>143</td>\n",
       "      <td>bureau_balance</td>\n",
       "      <td>MONTHS_BALANCE</td>\n",
       "      <td>Month of balance relative to application date (-1 means the freshest balance date)</td>\n",
       "      <td>time only relative to the application</td>\n",
       "    </tr>\n",
       "    <tr>\n",
       "      <th>141</th>\n",
       "      <td>144</td>\n",
       "      <td>bureau_balance</td>\n",
       "      <td>STATUS</td>\n",
       "      <td>Status of Credit Bureau loan during the month (active, closed, DPD0-30,… [C means closed, X means status unknown, 0 means no DPD, 1 means maximal did during month between 1-30, 2 means DPD 31-60,… 5 means DPD 120+ or sold or written off ] )</td>\n",
       "      <td>NaN</td>\n",
       "    </tr>\n",
       "  </tbody>\n",
       "</table>\n",
       "</div>"
      ],
      "text/plain": [
       "     MyUnknownColumn           Table             Row  \\\n",
       "139              142  bureau_balance    SK_BUREAU_ID   \n",
       "140              143  bureau_balance  MONTHS_BALANCE   \n",
       "141              144  bureau_balance          STATUS   \n",
       "\n",
       "                                                                                                                                                                                                                                          Description  \\\n",
       "139                                                                                                                                Recoded ID of Credit Bureau credit (unique coding for each application) - use this to join to CREDIT_BUREAU table    \n",
       "140                                                                                                                                                                Month of balance relative to application date (-1 means the freshest balance date)   \n",
       "141  Status of Credit Bureau loan during the month (active, closed, DPD0-30,… [C means closed, X means status unknown, 0 means no DPD, 1 means maximal did during month between 1-30, 2 means DPD 31-60,… 5 means DPD 120+ or sold or written off ] )   \n",
       "\n",
       "                                   Special  \n",
       "139                                 hashed  \n",
       "140  time only relative to the application  \n",
       "141                                    NaN  "
      ]
     },
     "execution_count": 12,
     "metadata": {},
     "output_type": "execute_result"
    }
   ],
   "source": [
    "des = pd.read_pickle(ROOT + \"/data/pkl/description.p\")\n",
    "des_bureau = des[des[\"Table\"] == \"bureau_balance\"]\n",
    "des_bureau"
   ]
  },
  {
   "cell_type": "code",
   "execution_count": 13,
   "metadata": {},
   "outputs": [
    {
     "name": "stdout",
     "output_type": "stream",
     "text": [
      "Shape: (27299925, 3)\n"
     ]
    },
    {
     "data": {
      "text/html": [
       "<div>\n",
       "<style scoped>\n",
       "    .dataframe tbody tr th:only-of-type {\n",
       "        vertical-align: middle;\n",
       "    }\n",
       "\n",
       "    .dataframe tbody tr th {\n",
       "        vertical-align: top;\n",
       "    }\n",
       "\n",
       "    .dataframe thead th {\n",
       "        text-align: right;\n",
       "    }\n",
       "</style>\n",
       "<table border=\"1\" class=\"dataframe\">\n",
       "  <thead>\n",
       "    <tr style=\"text-align: right;\">\n",
       "      <th></th>\n",
       "      <th>index</th>\n",
       "      <th>DataType</th>\n",
       "      <th>#Nulls</th>\n",
       "      <th>#Uniques</th>\n",
       "      <th>Min</th>\n",
       "      <th>Mean</th>\n",
       "      <th>Std</th>\n",
       "      <th>Max</th>\n",
       "      <th>top10 val</th>\n",
       "      <th>top10 cnt</th>\n",
       "      <th>top10 ratio</th>\n",
       "      <th>Description</th>\n",
       "      <th>Special</th>\n",
       "    </tr>\n",
       "  </thead>\n",
       "  <tbody>\n",
       "    <tr>\n",
       "      <th>0</th>\n",
       "      <td>SK_ID_BUREAU</td>\n",
       "      <td>int64</td>\n",
       "      <td>0</td>\n",
       "      <td>817395</td>\n",
       "      <td>5001709.000</td>\n",
       "      <td>6036297.333</td>\n",
       "      <td>492348.857</td>\n",
       "      <td>6842888.000</td>\n",
       "      <td>6255376, 5719281, 6255503, 5017557, 6834163, 6255498, 6356582, 5465462, 5719020, 5719021</td>\n",
       "      <td>97, 97, 97, 97, 97, 97, 97, 97, 97, 97</td>\n",
       "      <td>0.0, 0.0, 0.0, 0.0, 0.0, 0.0, 0.0, 0.0, 0.0, 0.0</td>\n",
       "      <td>NaN</td>\n",
       "      <td>NaN</td>\n",
       "    </tr>\n",
       "    <tr>\n",
       "      <th>1</th>\n",
       "      <td>MONTHS_BALANCE</td>\n",
       "      <td>int64</td>\n",
       "      <td>0</td>\n",
       "      <td>97</td>\n",
       "      <td>-96.000</td>\n",
       "      <td>-30.742</td>\n",
       "      <td>23.865</td>\n",
       "      <td>0.000</td>\n",
       "      <td>-1, -2, -3, 0, -4, -5, -6, -7, -8, -9</td>\n",
       "      <td>622601, 619243, 615080, 610965, 609138, 602663, 594277, 583794, 573566, 563804</td>\n",
       "      <td>0.023, 0.023, 0.023, 0.022, 0.022, 0.022, 0.022, 0.021, 0.021, 0.021</td>\n",
       "      <td>Month of balance relative to application date (-1 means the freshest balance date)</td>\n",
       "      <td>time only relative to the application</td>\n",
       "    </tr>\n",
       "    <tr>\n",
       "      <th>2</th>\n",
       "      <td>STATUS</td>\n",
       "      <td>object</td>\n",
       "      <td>0</td>\n",
       "      <td>8</td>\n",
       "      <td>NaN</td>\n",
       "      <td>NaN</td>\n",
       "      <td>NaN</td>\n",
       "      <td>NaN</td>\n",
       "      <td>C, 0, X, 1, 5, 2, 3, 4</td>\n",
       "      <td>13646993, 7499507, 5810482, 242347, 62406, 23419, 8924, 5847</td>\n",
       "      <td>0.5, 0.275, 0.213, 0.009, 0.002, 0.001, 0.0, 0.0</td>\n",
       "      <td>Status of Credit Bureau loan during the month (active, closed, DPD0-30,… [C means closed, X means status unknown, 0 means no DPD, 1 means maximal did during month between 1-30, 2 means DPD 31-60,… 5 means DPD 120+ or sold or written off ] )</td>\n",
       "      <td>NaN</td>\n",
       "    </tr>\n",
       "  </tbody>\n",
       "</table>\n",
       "</div>"
      ],
      "text/plain": [
       "            index DataType  #Nulls  #Uniques         Min        Mean  \\\n",
       "0    SK_ID_BUREAU    int64       0    817395 5001709.000 6036297.333   \n",
       "1  MONTHS_BALANCE    int64       0        97     -96.000     -30.742   \n",
       "2          STATUS   object       0         8         NaN         NaN   \n",
       "\n",
       "         Std         Max  \\\n",
       "0 492348.857 6842888.000   \n",
       "1     23.865       0.000   \n",
       "2        NaN         NaN   \n",
       "\n",
       "                                                                                  top10 val  \\\n",
       "0  6255376, 5719281, 6255503, 5017557, 6834163, 6255498, 6356582, 5465462, 5719020, 5719021   \n",
       "1                                                     -1, -2, -3, 0, -4, -5, -6, -7, -8, -9   \n",
       "2                                                                    C, 0, X, 1, 5, 2, 3, 4   \n",
       "\n",
       "                                                                        top10 cnt  \\\n",
       "0                                          97, 97, 97, 97, 97, 97, 97, 97, 97, 97   \n",
       "1  622601, 619243, 615080, 610965, 609138, 602663, 594277, 583794, 573566, 563804   \n",
       "2                    13646993, 7499507, 5810482, 242347, 62406, 23419, 8924, 5847   \n",
       "\n",
       "                                                            top10 ratio  \\\n",
       "0                      0.0, 0.0, 0.0, 0.0, 0.0, 0.0, 0.0, 0.0, 0.0, 0.0   \n",
       "1  0.023, 0.023, 0.023, 0.022, 0.022, 0.022, 0.022, 0.021, 0.021, 0.021   \n",
       "2                      0.5, 0.275, 0.213, 0.009, 0.002, 0.001, 0.0, 0.0   \n",
       "\n",
       "                                                                                                                                                                                                                                        Description  \\\n",
       "0                                                                                                                                                                                                                                               NaN   \n",
       "1                                                                                                                                                                Month of balance relative to application date (-1 means the freshest balance date)   \n",
       "2  Status of Credit Bureau loan during the month (active, closed, DPD0-30,… [C means closed, X means status unknown, 0 means no DPD, 1 means maximal did during month between 1-30, 2 means DPD 31-60,… 5 means DPD 120+ or sold or written off ] )   \n",
       "\n",
       "                                 Special  \n",
       "0                                    NaN  \n",
       "1  time only relative to the application  \n",
       "2                                    NaN  "
      ]
     },
     "execution_count": 13,
     "metadata": {},
     "output_type": "execute_result"
    }
   ],
   "source": [
    "df_info = EDA.df_info(bureau_balance).reset_index()\n",
    "df_merged = pd.merge(df_info, des_bureau[[\"Row\", \"Description\", \"Special\"]], \n",
    "                     left_on=\"index\", right_on=\"Row\", how=\"left\").drop(columns=[\"Row\"])\n",
    "df_merged"
   ]
  },
  {
   "cell_type": "code",
   "execution_count": 15,
   "metadata": {},
   "outputs": [
    {
     "data": {
      "text/plain": [
       "<Axes: >"
      ]
     },
     "execution_count": 15,
     "metadata": {},
     "output_type": "execute_result"
    },
    {
     "data": {
      "image/png": "[encoded data removed]",
      "text/plain": [
       "<Figure size 640x480 with 1 Axes>"
      ]
     },
     "metadata": {},
     "output_type": "display_data"
    }
   ],
   "source": [
    "bureau_balance[\"MONTHS_BALANCE\"].hist(bins=30)"
   ]
  }
 ],
 "metadata": {
  "kernelspec": {
   "display_name": "venv",
   "language": "python",
   "name": "python3"
  },
  "language_info": {
   "codemirror_mode": {
    "name": "ipython",
    "version": 3
   },
   "file_extension": ".py",
   "mimetype": "text/x-python",
   "name": "python",
   "nbconvert_exporter": "python",
   "pygments_lexer": "ipython3",
   "version": "3.11.2"
  }
 },
 "nbformat": 4,
 "nbformat_minor": 2
}
