{
 "cells": [
  {
   "cell_type": "code",
   "execution_count": 1,
   "metadata": {},
   "outputs": [
    {
     "data": {
      "text/plain": [
       "<module 'helpers.EDA' from 'd:\\\\Data Science\\\\helpers\\\\EDA.py'>"
      ]
     },
     "execution_count": 1,
     "metadata": {},
     "output_type": "execute_result"
    }
   ],
   "source": [
    "import pandas as pd\n",
    "import numpy as np\n",
    "import matplotlib.pyplot as plt\n",
    "import seaborn as sns\n",
    "import importlib\n",
    "import gc\n",
    "import io\n",
    "import os\n",
    "from itertools import combinations\n",
    "\n",
    "from IPython.display import display\n",
    "pd.set_option('display.max_columns', 99)\n",
    "pd.set_option('display.max_rows', 200)\n",
    "\n",
    "pd.reset_option('display.float_format')\n",
    "pd.set_option('display.max_colwidth', None)  \n",
    "\n",
    "from sitecustomize import ROOT # lib này được khởi tạo ban đầu dự án\n",
    "\n",
    "import helpers.view as view\n",
    "import helpers.EDA as EDA\n",
    "import modules.multi as multi\n",
    "\n",
    "importlib.reload(view)\n",
    "importlib.reload(EDA)"
   ]
  },
  {
   "cell_type": "code",
   "execution_count": 2,
   "metadata": {},
   "outputs": [],
   "source": [
    "def cache_clear():\n",
    "    for var in list(globals()):  \n",
    "        if var not in _keep_vars and not var.startswith(\"_\"):  \n",
    "            del globals()[var]  \n",
    "\n",
    "    gc.collect()\n",
    "_keep_vars = set(globals().keys())  # lưu biến gốc"
   ]
  },
  {
   "cell_type": "markdown",
   "metadata": {},
   "source": [
    "# train test prev"
   ]
  },
  {
   "cell_type": "code",
   "execution_count": 3,
   "metadata": {},
   "outputs": [],
   "source": [
    "prev = pd.read_csv(ROOT + \"/data/csv/previous_application.csv\")"
   ]
  },
  {
   "cell_type": "code",
   "execution_count": 4,
   "metadata": {},
   "outputs": [],
   "source": [
    "train = pd.read_pickle(ROOT + \"/data/pkl/application_train.p\")"
   ]
  },
  {
   "cell_type": "code",
   "execution_count": 5,
   "metadata": {},
   "outputs": [],
   "source": [
    "test = pd.read_pickle(ROOT + \"/data/pkl/application_test.p\")"
   ]
  },
  {
   "cell_type": "code",
   "execution_count": 6,
   "metadata": {},
   "outputs": [],
   "source": [
    "obj_features = [c for c in prev.columns if (prev[c].dtype==\"O\") | (prev[c].nunique() <= 7)]"
   ]
  },
  {
   "cell_type": "code",
   "execution_count": 7,
   "metadata": {},
   "outputs": [],
   "source": [
    "con_features = [c for c in prev.columns if c not in obj_features]"
   ]
  },
  {
   "cell_type": "code",
   "execution_count": 8,
   "metadata": {},
   "outputs": [],
   "source": [
    "# helpers.config\n",
    "\n",
    "prev_money_cols = [ 'AMT_ANNUITY', 'AMT_APPLICATION', 'AMT_CREDIT', 'AMT_DOWN_PAYMENT', 'AMT_GOODS_PRICE']\n",
    "prev_rate_cols = ['RATE_DOWN_PAYMENT', 'RATE_INTEREST_PRIMARY', 'RATE_INTEREST_PRIVILEGED']\n",
    "prev_other_cols = ['HOUR_APPR_PROCESS_START', 'SELLERPLACE_AREA']\n",
    "prev_cnt_cols = ['CNT_PAYMENT']\n",
    "prev_day_cols = ['DAYS_DECISION', 'DAYS_FIRST_DRAWING', 'DAYS_FIRST_DUE', 'DAYS_LAST_DUE_1ST_VERSION', 'DAYS_LAST_DUE', 'DAYS_TERMINATION'] "
   ]
  },
  {
   "cell_type": "markdown",
   "metadata": {},
   "source": [
    "# split train và test trong prev"
   ]
  },
  {
   "cell_type": "code",
   "execution_count": 9,
   "metadata": {},
   "outputs": [],
   "source": [
    "train_id = train[\"SK_ID_CURR\"].unique()"
   ]
  },
  {
   "cell_type": "code",
   "execution_count": 10,
   "metadata": {},
   "outputs": [],
   "source": [
    "prev.loc[prev['SK_ID_CURR'].isin(train_id), 'data'] = 1\n",
    "prev.loc[~prev['SK_ID_CURR'].isin(train_id), 'data'] = 0"
   ]
  },
  {
   "cell_type": "code",
   "execution_count": 11,
   "metadata": {},
   "outputs": [],
   "source": [
    "prev_train = prev[prev[\"data\"] == 1]\n",
    "prev_test = prev[prev[\"data\"] == 0]"
   ]
  },
  {
   "cell_type": "code",
   "execution_count": 12,
   "metadata": {},
   "outputs": [],
   "source": [
    "_keep_vars.update([\"prev\", \"train\", \"test\", \"obj_features\", \"con_features\"])"
   ]
  },
  {
   "cell_type": "code",
   "execution_count": 13,
   "metadata": {},
   "outputs": [],
   "source": [
    "cache_clear()"
   ]
  },
  {
   "cell_type": "markdown",
   "metadata": {},
   "source": [
    "# feature engineering"
   ]
  },
  {
   "cell_type": "code",
   "execution_count": 14,
   "metadata": {},
   "outputs": [],
   "source": [
    "prev['AMT_APPLICATION'] = prev['AMT_APPLICATION'].replace(0, np.nan)\n",
    "prev['AMT_CREDIT'] = prev['AMT_CREDIT'].replace(0, np.nan)\n",
    "prev['CNT_PAYMENT'] = prev['CNT_PAYMENT'].replace(0, np.nan)\n",
    "prev['AMT_DOWN_PAYMENT'] = prev['AMT_DOWN_PAYMENT'].replace(np.nan, 0)\n",
    "prev['RATE_DOWN_PAYMENT'] = prev['RATE_DOWN_PAYMENT'].replace(np.nan, 0)\n",
    "\n",
    "# prev.loc[df['NAME_CONTRACT_STATUS']!='Approved', 'AMT_DOWN_PAYMENT'] = np.nan\n",
    "# prev.loc[df['NAME_CONTRACT_STATUS']!='Approved', 'RATE_DOWN_PAYMENT'] = np.nan # ?"
   ]
  },
  {
   "cell_type": "code",
   "execution_count": 15,
   "metadata": {},
   "outputs": [],
   "source": [
    "prev['FLAG_LAST_APPL_PER_CONTRACT'] = (prev['FLAG_LAST_APPL_PER_CONTRACT']=='Y')*1 # biến nhị phân"
   ]
  },
  {
   "cell_type": "code",
   "execution_count": 16,
   "metadata": {},
   "outputs": [],
   "source": [
    "for c in ['DAYS_FIRST_DRAWING', 'DAYS_FIRST_DUE', 'DAYS_LAST_DUE_1ST_VERSION', \n",
    "            'DAYS_LAST_DUE', 'DAYS_TERMINATION']:\n",
    "    prev.loc[prev[c]==365243, c] = np.nan"
   ]
  },
  {
   "cell_type": "code",
   "execution_count": 17,
   "metadata": {},
   "outputs": [],
   "source": [
    "prev[\"DAYS_FIRST_DRAWING-s-DAYS_DECISIONS\"] = prev[\"DAYS_FIRST_DRAWING\"] - prev[\"DAYS_DECISION\"]\n",
    "prev[\"DAYS_FIRST_DUE-s-DAYS_DECISIONS\"] = prev[\"DAYS_FIRST_DUE\"] - prev[\"DAYS_DECISION\"]\n",
    "prev[\"DAYS_LAST_DUE_1ST_VERSION-s-DAYS_DECISIONS\"] = prev[\"DAYS_LAST_DUE_1ST_VERSION\"] - prev[\"DAYS_DECISION\"]\n",
    "prev[\"DAYS_LAST_DUE-s-DAYS_DECISIONS\"] = prev[\"DAYS_LAST_DUE\"] - prev[\"DAYS_DECISION\"]\n",
    "prev[\"DAYS_TERMINATION-s-DAYS_DECISIONS\"] = prev[\"DAYS_TERMINATION\"] - prev[\"DAYS_DECISION\"]\n",
    "\n",
    "# DAYS_FIRST_DRAWING rất nhiều null\n",
    "prev['DAYS_FIRST_DUE-s-DAYS_FIRST_DRAWING'] = prev['DAYS_FIRST_DUE'] - prev['DAYS_FIRST_DRAWING']\n",
    "prev['DAYS_LAST_DUE_1ST_VERSION-s-DAYS_FIRST_DRAWING'] = prev['DAYS_LAST_DUE_1ST_VERSION'] - prev['DAYS_FIRST_DRAWING']\n",
    "prev['DAYS_LAST_DUE-s-DAYS_FIRST_DRAWING'] = prev['DAYS_LAST_DUE'] - prev['DAYS_FIRST_DRAWING']\n",
    "prev['DAYS_TERMINATION-s-DAYS_FIRST_DRAWING'] = prev['DAYS_TERMINATION'] - prev['DAYS_FIRST_DRAWING']\n",
    "\n",
    "prev['DAYS_LAST_DUE_1ST_VERSION-s-DAYS_FIRST_DUE'] = prev['DAYS_LAST_DUE_1ST_VERSION'] - prev['DAYS_FIRST_DUE']\n",
    "prev['DAYS_LAST_DUE-s-DAYS_FIRST_DUE'] = prev['DAYS_LAST_DUE'] - prev['DAYS_FIRST_DUE']\n",
    "prev['DAYS_TERMINATION-s-DAYS_FIRST_DUE'] = prev['DAYS_TERMINATION'] - prev['DAYS_FIRST_DUE']\n",
    "\n",
    "prev['DAYS_LAST_DUE-s-DAYS_LAST_DUE_1ST_VERSION'] = prev['DAYS_LAST_DUE'] - prev['DAYS_LAST_DUE_1ST_VERSION']\n",
    "prev['DAYS_TERMINATION-s-DAYS_LAST_DUE_1ST_VERSION'] = prev['DAYS_TERMINATION'] - prev['DAYS_LAST_DUE_1ST_VERSION']\n",
    "\n",
    "prev['DAYS_TERMINATION-s-DAYS_LAST_DUE'] = prev['DAYS_TERMINATION'] - prev['DAYS_LAST_DUE']"
   ]
  },
  {
   "cell_type": "code",
   "execution_count": 18,
   "metadata": {},
   "outputs": [],
   "source": [
    "prev['total_debt'] = prev['AMT_ANNUITY'] * prev['CNT_PAYMENT']\n",
    "prev['AMT_GOODS_PRICE-d-total_debt'] = prev['AMT_GOODS_PRICE'] / prev['total_debt']\n",
    "prev['AMT_CREDIT-d-total_debt'] = prev['AMT_CREDIT'] / prev['total_debt'] # so sánh số tiền phải trả thực tế so với số tiền vay đã đượcf giải ngân\n",
    "\n",
    "prev[\"AMT_CREDIT-d-AMT_ANNUITY\"] = prev[\"AMT_CREDIT\"] / prev[\"AMT_ANNUITY\"] # how many month\n",
    "prev[\"AMT_GOODS_PRICE-d-AMT_ANNUITY\"] = prev[\"AMT_GOODS_PRICE\"] / prev[\"AMT_ANNUITY\"]\n",
    "\n",
    "prev[\"AMT_CREDIT-d-AMT_APPLICATION\"] = prev[\"AMT_CREDIT\"] / prev[\"AMT_APPLICATION\"]\n",
    "\n",
    "prev['AMT_GOODS_PRICE-d-AMT_CREDIT'] = prev['AMT_GOODS_PRICE'] / prev['AMT_CREDIT']\n",
    "\n",
    "prev['AMT_DOWN_PAYMENT-d-AMT_GOODS_PRICE'] = prev[\"AMT_DOWN_PAYMENT\"] / prev[\"AMT_GOODS_PRICE\"]"
   ]
  },
  {
   "cell_type": "markdown",
   "metadata": {},
   "source": [
    "#### với application (so sánh khoản vay trước đó với khoản vay hiện tại)"
   ]
  },
  {
   "cell_type": "code",
   "execution_count": 19,
   "metadata": {},
   "outputs": [],
   "source": [
    "use_cols = ['SK_ID_CURR', 'AMT_INCOME_TOTAL', 'AMT_CREDIT', 'AMT_ANNUITY', 'AMT_GOODS_PRICE', 'DAYS_BIRTH', 'DAYS_EMPLOYED', 'DAYS_REGISTRATION', 'DAYS_ID_PUBLISH', 'DAYS_LAST_PHONE_CHANGE'] # helpers.config"
   ]
  },
  {
   "cell_type": "code",
   "execution_count": 20,
   "metadata": {},
   "outputs": [],
   "source": [
    "trte = pd.concat([train, test])[use_cols] # modules.utils.get_trte()"
   ]
  },
  {
   "cell_type": "code",
   "execution_count": 21,
   "metadata": {},
   "outputs": [],
   "source": [
    "rename_di = {\n",
    "    'AMT_INCOME_TOTAL':       'app_AMT_INCOME_TOTAL', \n",
    "    'AMT_CREDIT':             'app_AMT_CREDIT', \n",
    "    'AMT_ANNUITY':            'app_AMT_ANNUITY',\n",
    "    'AMT_GOODS_PRICE':        'app_AMT_GOODS_PRICE',\n",
    "    \n",
    "    'DAYS_BIRTH':             'app_DAYS_BIRTH', \n",
    "    'DAYS_EMPLOYED':          'app_DAYS_EMPLOYED', \n",
    "    'DAYS_REGISTRATION':      'app_DAYS_REGISTRATION', \n",
    "    'DAYS_ID_PUBLISH':        'app_DAYS_ID_PUBLISH', \n",
    "    'DAYS_LAST_PHONE_CHANGE': 'app_DAYS_LAST_PHONE_CHANGE',\n",
    "    }\n",
    "trte.rename(columns=rename_di, inplace=True)"
   ]
  },
  {
   "cell_type": "code",
   "execution_count": 54,
   "metadata": {},
   "outputs": [],
   "source": [
    "# helpers.config\n",
    "\n",
    "app_money_cols = ['app_AMT_INCOME_TOTAL', 'app_AMT_CREDIT', 'app_AMT_ANNUITY', 'app_AMT_GOODS_PRICE']\n",
    "app_day_cols = ['app_DAYS_BIRTH', 'app_DAYS_EMPLOYED', 'app_DAYS_REGISTRATION', 'app_DAYS_ID_PUBLISH', 'app_DAYS_LAST_PHONE_CHANGE'] "
   ]
  },
  {
   "cell_type": "code",
   "execution_count": 22,
   "metadata": {},
   "outputs": [],
   "source": [
    "# helpers.config\n",
    "\n",
    "prev_money_cols = [ 'AMT_ANNUITY', 'AMT_APPLICATION', 'AMT_CREDIT', 'AMT_DOWN_PAYMENT', 'AMT_GOODS_PRICE']\n",
    "prev_rate_cols = ['RATE_DOWN_PAYMENT', 'RATE_INTEREST_PRIMARY', 'RATE_INTEREST_PRIVILEGED']\n",
    "prev_other_cols = ['HOUR_APPR_PROCESS_START', 'SELLERPLACE_AREA']\n",
    "prev_cnt_cols = ['CNT_PAYMENT']\n",
    "prev_day_cols = ['DAYS_DECISION', 'DAYS_FIRST_DRAWING', 'DAYS_FIRST_DUE', 'DAYS_LAST_DUE_1ST_VERSION', 'DAYS_LAST_DUE', 'DAYS_TERMINATION']"
   ]
  },
  {
   "cell_type": "code",
   "execution_count": 23,
   "metadata": {},
   "outputs": [],
   "source": [
    "prev = prev.merge(trte, on = \"SK_ID_CURR\", how=\"left\")"
   ]
  },
  {
   "cell_type": "code",
   "execution_count": 24,
   "metadata": {},
   "outputs": [],
   "source": [
    "# money meta feature\n",
    "prev['AMT_ANNUITY-d-app_AMT_INCOME_TOTAL']     = prev['AMT_ANNUITY']     / prev['app_AMT_INCOME_TOTAL'] # AMT_INCOME_TOTAL là thu nhập MONTHLY. đây là thu nhập tự xưng và có sai số\n",
    "prev['AMT_APPLICATION-d-app_AMT_INCOME_TOTAL'] = prev['AMT_APPLICATION'] / prev['app_AMT_INCOME_TOTAL']\n",
    "prev['AMT_CREDIT-d-app_AMT_INCOME_TOTAL']      = prev['AMT_CREDIT']      / prev['app_AMT_INCOME_TOTAL']\n",
    "prev['AMT_GOODS_PRICE-d-app_AMT_INCOME_TOTAL'] = prev['AMT_GOODS_PRICE'] / prev['app_AMT_INCOME_TOTAL']\n",
    "\n",
    "prev['AMT_ANNUITY-s-app_AMT_INCOME_TOTAL']     = prev['AMT_ANNUITY']     - prev['app_AMT_INCOME_TOTAL']\n",
    "prev['AMT_APPLICATION-s-app_AMT_INCOME_TOTAL'] = prev['AMT_APPLICATION'] - prev['app_AMT_INCOME_TOTAL']\n",
    "prev['AMT_CREDIT-s-app_AMT_INCOME_TOTAL']      = prev['AMT_CREDIT']      - prev['app_AMT_INCOME_TOTAL']\n",
    "prev['AMT_GOODS_PRICE-s-app_AMT_INCOME_TOTAL'] = prev['AMT_GOODS_PRICE'] - prev['app_AMT_INCOME_TOTAL']\n",
    "\n",
    "prev['AMT_ANNUITY-d-app_AMT_CREDIT']     = prev['AMT_ANNUITY']     / prev['app_AMT_CREDIT']\n",
    "prev['AMT_APPLICATION-d-app_AMT_CREDIT'] = prev['AMT_APPLICATION'] / prev['app_AMT_CREDIT']\n",
    "prev['AMT_CREDIT-d-app_AMT_CREDIT']      = prev['AMT_CREDIT']      / prev['app_AMT_CREDIT']\n",
    "prev['AMT_GOODS_PRICE-d-app_AMT_CREDIT'] = prev['AMT_GOODS_PRICE'] / prev['app_AMT_CREDIT']\n",
    "\n",
    "prev['AMT_ANNUITY-s-app_AMT_CREDIT']     = prev['AMT_ANNUITY']     - prev['app_AMT_CREDIT']\n",
    "prev['AMT_APPLICATION-s-app_AMT_CREDIT'] = prev['AMT_APPLICATION'] - prev['app_AMT_CREDIT']\n",
    "prev['AMT_CREDIT-s-app_AMT_CREDIT']      = prev['AMT_CREDIT']      - prev['app_AMT_CREDIT']\n",
    "prev['AMT_GOODS_PRICE-s-app_AMT_CREDIT'] = prev['AMT_GOODS_PRICE'] - prev['app_AMT_CREDIT']\n",
    "\n",
    "prev['AMT_ANNUITY-d-app_AMT_ANNUITY']     = prev['AMT_ANNUITY']     / prev['app_AMT_ANNUITY']\n",
    "prev['AMT_APPLICATION-d-app_AMT_ANNUITY'] = prev['AMT_APPLICATION'] / prev['app_AMT_ANNUITY']\n",
    "prev['AMT_CREDIT-d-app_AMT_ANNUITY']      = prev['AMT_CREDIT']      / prev['app_AMT_ANNUITY']\n",
    "prev['AMT_GOODS_PRICE-d-app_AMT_ANNUITY'] = prev['AMT_GOODS_PRICE'] / prev['app_AMT_ANNUITY']\n",
    "\n",
    "prev['AMT_ANNUITY-s-app_AMT_ANNUITY']     = prev['AMT_ANNUITY']     - prev['app_AMT_ANNUITY']\n",
    "prev['AMT_APPLICATION-s-app_AMT_ANNUITY'] = prev['AMT_APPLICATION'] - prev['app_AMT_ANNUITY']\n",
    "prev['AMT_CREDIT-s-app_AMT_ANNUITY']      = prev['AMT_CREDIT']      - prev['app_AMT_ANNUITY']\n",
    "prev['AMT_GOODS_PRICE-s-app_AMT_ANNUITY'] = prev['AMT_GOODS_PRICE'] - prev['app_AMT_ANNUITY']\n",
    "\n",
    "prev['AMT_ANNUITY-d-app_AMT_GOODS_PRICE']     = prev['AMT_ANNUITY']     / prev['app_AMT_GOODS_PRICE']\n",
    "prev['AMT_APPLICATION-d-app_AMT_GOODS_PRICE'] = prev['AMT_APPLICATION'] / prev['app_AMT_GOODS_PRICE']\n",
    "prev['AMT_CREDIT-d-app_AMT_GOODS_PRICE']      = prev['AMT_CREDIT']      / prev['app_AMT_GOODS_PRICE']\n",
    "prev['AMT_GOODS_PRICE-d-app_AMT_GOODS_PRICE'] = prev['AMT_GOODS_PRICE'] / prev['app_AMT_GOODS_PRICE']\n",
    "\n",
    "prev['AMT_ANNUITY-s-app_AMT_GOODS_PRICE']     = prev['AMT_ANNUITY']     - prev['app_AMT_GOODS_PRICE']\n",
    "prev['AMT_APPLICATION-s-app_AMT_GOODS_PRICE'] = prev['AMT_APPLICATION'] - prev['app_AMT_GOODS_PRICE']\n",
    "prev['AMT_CREDIT-s-app_AMT_GOODS_PRICE']      = prev['AMT_CREDIT']      - prev['app_AMT_GOODS_PRICE']\n",
    "prev['AMT_GOODS_PRICE-s-app_AMT_GOODS_PRICE'] = prev['AMT_GOODS_PRICE'] - prev['app_AMT_GOODS_PRICE']"
   ]
  },
  {
   "cell_type": "code",
   "execution_count": 25,
   "metadata": {},
   "outputs": [],
   "source": [
    "prev['AMT_ANNUITY-s-app_AMT_CREDIT-d-app_AMT_INCOME_TOTAL']     = prev['AMT_ANNUITY-s-app_AMT_CREDIT'] / prev['app_AMT_INCOME_TOTAL']\n",
    "prev['AMT_APPLICATION-s-app_AMT_CREDIT-d-app_AMT_INCOME_TOTAL'] = prev['AMT_APPLICATION-s-app_AMT_CREDIT'] / prev['app_AMT_INCOME_TOTAL']\n",
    "prev['AMT_CREDIT-s-app_AMT_CREDIT-d-app_AMT_INCOME_TOTAL']      = prev['AMT_CREDIT-s-app_AMT_CREDIT'] / prev['app_AMT_INCOME_TOTAL']\n",
    "prev['AMT_GOODS_PRICE-s-app_AMT_CREDIT-d-app_AMT_INCOME_TOTAL'] = prev['AMT_GOODS_PRICE-s-app_AMT_CREDIT'] / prev['app_AMT_INCOME_TOTAL']\n",
    "\n",
    "prev['AMT_ANNUITY-s-app_AMT_ANNUITY-d-app_AMT_INCOME_TOTAL']     = prev['AMT_ANNUITY-s-app_AMT_ANNUITY'] / prev['app_AMT_INCOME_TOTAL']\n",
    "prev['AMT_APPLICATION-s-app_AMT_ANNUITY-d-app_AMT_INCOME_TOTAL'] = prev['AMT_APPLICATION-s-app_AMT_ANNUITY'] / prev['app_AMT_INCOME_TOTAL']\n",
    "prev['AMT_CREDIT-s-app_AMT_ANNUITY-d-app_AMT_INCOME_TOTAL']      = prev['AMT_CREDIT-s-app_AMT_ANNUITY'] / prev['app_AMT_INCOME_TOTAL']\n",
    "prev['AMT_GOODS_PRICE-s-app_AMT_ANNUITY-d-app_AMT_INCOME_TOTAL'] = prev['AMT_GOODS_PRICE-s-app_AMT_ANNUITY'] / prev['app_AMT_INCOME_TOTAL']\n",
    "\n",
    "prev['AMT_ANNUITY-m-app_AMT_GOODS_PRICE-d-app_AMT_INCOME_TOTAL']     = prev['AMT_ANNUITY-s-app_AMT_GOODS_PRICE'] / prev['app_AMT_INCOME_TOTAL']\n",
    "prev['AMT_APPLICATION-m-app_AMT_GOODS_PRICE-d-app_AMT_INCOME_TOTAL'] = prev['AMT_APPLICATION-s-app_AMT_GOODS_PRICE'] / prev['app_AMT_INCOME_TOTAL']\n",
    "prev['AMT_CREDIT-m-app_AMT_GOODS_PRICE-d-app_AMT_INCOME_TOTAL']      = prev['AMT_CREDIT-s-app_AMT_GOODS_PRICE']  / prev['app_AMT_INCOME_TOTAL']\n",
    "prev['AMT_GOODS_PRICE-m-app_AMT_GOODS_PRICE-d-app_AMT_INCOME_TOTAL'] = prev['AMT_GOODS_PRICE-s-app_AMT_GOODS_PRICE'] / prev['app_AMT_INCOME_TOTAL']"
   ]
  },
  {
   "cell_type": "code",
   "execution_count": 26,
   "metadata": {},
   "outputs": [],
   "source": [
    "f_name='interest_rate'; init_rate=0.9; n_iter=500 # hội tụ hàm số tìm lãi suất\n",
    "prev['AMT_ANNUITY_d_AMT_CREDIT_temp'] = prev.AMT_ANNUITY / prev.AMT_CREDIT   \n",
    "prev[f_name] = prev['AMT_ANNUITY_d_AMT_CREDIT_temp']*((1 + init_rate)**prev.CNT_PAYMENT - 1)/((1 + init_rate)**prev.CNT_PAYMENT)\n",
    "for i in range(n_iter):\n",
    "    prev[f_name] = prev['AMT_ANNUITY_d_AMT_CREDIT_temp']*((1 + prev[f_name])**prev.CNT_PAYMENT - 1)/((1 + prev[f_name])**prev.CNT_PAYMENT) \n",
    "prev.drop(['AMT_ANNUITY_d_AMT_CREDIT_temp'], axis=1, inplace=True)"
   ]
  },
  {
   "cell_type": "code",
   "execution_count": 27,
   "metadata": {},
   "outputs": [],
   "source": [
    "prev.sort_values(['SK_ID_CURR', 'DAYS_DECISION'], inplace=True)\n",
    "prev.reset_index(drop=True, inplace=True)"
   ]
  },
  {
   "cell_type": "code",
   "execution_count": 42,
   "metadata": {},
   "outputs": [],
   "source": [
    "cols = [ 'total_debt',\n",
    "'AMT_GOODS_PRICE-d-total_debt',\n",
    "'AMT_CREDIT-d-total_debt',\n",
    "'AMT_CREDIT-d-AMT_ANNUITY',\n",
    "'AMT_GOODS_PRICE-d-AMT_ANNUITY',\n",
    "'AMT_CREDIT-d-AMT_APPLICATION',\n",
    "'AMT_GOODS_PRICE-d-AMT_CREDIT',\n",
    "'AMT_DOWN_PAYMENT-d-AMT_GOODS_PRICE',\n",
    "\n",
    "'AMT_ANNUITY-d-app_AMT_INCOME_TOTAL',\n",
    "'AMT_APPLICATION-d-app_AMT_INCOME_TOTAL',\n",
    "'AMT_CREDIT-d-app_AMT_INCOME_TOTAL',\n",
    "'AMT_GOODS_PRICE-d-app_AMT_INCOME_TOTAL',\n",
    "'AMT_ANNUITY-s-app_AMT_INCOME_TOTAL',\n",
    "'AMT_APPLICATION-s-app_AMT_INCOME_TOTAL',\n",
    "'AMT_CREDIT-s-app_AMT_INCOME_TOTAL',\n",
    "'AMT_GOODS_PRICE-s-app_AMT_INCOME_TOTAL',\n",
    "'AMT_ANNUITY-d-app_AMT_CREDIT',\n",
    "'AMT_APPLICATION-d-app_AMT_CREDIT',\n",
    "'AMT_CREDIT-d-app_AMT_CREDIT',\n",
    "'AMT_GOODS_PRICE-d-app_AMT_CREDIT',\n",
    "'AMT_ANNUITY-s-app_AMT_CREDIT',\n",
    "'AMT_APPLICATION-s-app_AMT_CREDIT',\n",
    "'AMT_CREDIT-s-app_AMT_CREDIT',\n",
    "'AMT_GOODS_PRICE-s-app_AMT_CREDIT',\n",
    "'AMT_ANNUITY-d-app_AMT_ANNUITY',\n",
    "'AMT_APPLICATION-d-app_AMT_ANNUITY',\n",
    "'AMT_CREDIT-d-app_AMT_ANNUITY',\n",
    "'AMT_GOODS_PRICE-d-app_AMT_ANNUITY',\n",
    "'AMT_ANNUITY-s-app_AMT_ANNUITY',\n",
    "'AMT_APPLICATION-s-app_AMT_ANNUITY',\n",
    "'AMT_CREDIT-s-app_AMT_ANNUITY',\n",
    "'AMT_GOODS_PRICE-s-app_AMT_ANNUITY',\n",
    "'AMT_ANNUITY-d-app_AMT_GOODS_PRICE',\n",
    "'AMT_APPLICATION-d-app_AMT_GOODS_PRICE',\n",
    "'AMT_CREDIT-d-app_AMT_GOODS_PRICE',\n",
    "'AMT_GOODS_PRICE-d-app_AMT_GOODS_PRICE',\n",
    "'AMT_ANNUITY-s-app_AMT_GOODS_PRICE',\n",
    "'AMT_APPLICATION-s-app_AMT_GOODS_PRICE',\n",
    "'AMT_CREDIT-s-app_AMT_GOODS_PRICE',\n",
    "'AMT_GOODS_PRICE-s-app_AMT_GOODS_PRICE',\n",
    "'AMT_ANNUITY-s-app_AMT_CREDIT-d-app_AMT_INCOME_TOTAL',\n",
    "'AMT_APPLICATION-s-app_AMT_CREDIT-d-app_AMT_INCOME_TOTAL',\n",
    "'AMT_CREDIT-s-app_AMT_CREDIT-d-app_AMT_INCOME_TOTAL',\n",
    "'AMT_GOODS_PRICE-s-app_AMT_CREDIT-d-app_AMT_INCOME_TOTAL',\n",
    "'AMT_ANNUITY-s-app_AMT_ANNUITY-d-app_AMT_INCOME_TOTAL',\n",
    "'AMT_APPLICATION-s-app_AMT_ANNUITY-d-app_AMT_INCOME_TOTAL',\n",
    "'AMT_CREDIT-s-app_AMT_ANNUITY-d-app_AMT_INCOME_TOTAL',\n",
    "'AMT_GOODS_PRICE-s-app_AMT_ANNUITY-d-app_AMT_INCOME_TOTAL',\n",
    "'AMT_ANNUITY-m-app_AMT_GOODS_PRICE-d-app_AMT_INCOME_TOTAL',\n",
    "'AMT_APPLICATION-m-app_AMT_GOODS_PRICE-d-app_AMT_INCOME_TOTAL',\n",
    "'AMT_CREDIT-m-app_AMT_GOODS_PRICE-d-app_AMT_INCOME_TOTAL',\n",
    "'AMT_GOODS_PRICE-m-app_AMT_GOODS_PRICE-d-app_AMT_INCOME_TOTAL',\n",
    "'interest_rate']"
   ]
  },
  {
   "cell_type": "code",
   "execution_count": 50,
   "metadata": {},
   "outputs": [
    {
     "name": "stderr",
     "output_type": "stream",
     "text": [
      "C:\\Users\\Admin\\AppData\\Local\\Temp\\ipykernel_20628\\2019820195.py:5: FutureWarning: The default fill_method='ffill' in SeriesGroupBy.pct_change is deprecated and will be removed in a future version. Either fill in any non-leading NA values prior to calling pct_change or specify 'fill_method=None' to not fill NA values.\n",
      "  ret_pctchng = df_grouped.pct_change()\n"
     ]
    }
   ],
   "source": [
    "df_list = []\n",
    "for col in cols:\n",
    "    df = multi.multi(col)\n",
    "    df_list.append(df)\n",
    "df = pd.concat(df_list, axis=1)"
   ]
  },
  {
   "cell_type": "code",
   "execution_count": 29,
   "metadata": {},
   "outputs": [],
   "source": [
    "# from multiprocessing import Pool, cpu_count"
   ]
  },
  {
   "cell_type": "code",
   "execution_count": 32,
   "metadata": {},
   "outputs": [],
   "source": [
    "# pool = Pool(len(col))\n",
    "# callback = pd.concat(pool.map(multi.multi, col), axis=1)\n",
    "# print(callback.columns.tolist())\n",
    "# pool.close()\n",
    "# df = pd.concat([df, callback], axis=1)"
   ]
  },
  {
   "cell_type": "code",
   "execution_count": 52,
   "metadata": {},
   "outputs": [],
   "source": [
    "prev = pd.concat([prev, df], axis=1)"
   ]
  },
  {
   "cell_type": "code",
   "execution_count": 60,
   "metadata": {},
   "outputs": [],
   "source": [
    "# day meta feature\n",
    "for c1 in prev_day_cols:\n",
    "    for c2 in app_day_cols:\n",
    "        prev[f'{c1}-s-{c2}'] = prev[c1] - prev[c2]\n",
    "        prev[f'{c1}-d-{c2}'] = prev[c1] / prev[c2]"
   ]
  },
  {
   "cell_type": "code",
   "execution_count": 96,
   "metadata": {},
   "outputs": [],
   "source": [
    "_keep_vars.update([\"prev\"])\n",
    "del prev_tmp"
   ]
  },
  {
   "cell_type": "code",
   "execution_count": 94,
   "metadata": {},
   "outputs": [],
   "source": [
    "cache_clear()"
   ]
  },
  {
   "cell_type": "code",
   "execution_count": 67,
   "metadata": {},
   "outputs": [],
   "source": [
    "prev['cnt_paid'] = prev.apply(lambda x: min( np.ceil((x['DAYS_FIRST_DUE']/-30) + 1), x['CNT_PAYMENT'] ), axis=1)\n",
    "prev['cnt_paid_ratio'] = prev['cnt_paid'] / prev['CNT_PAYMENT']\n",
    "prev['cnt_unpaid'] = prev['CNT_PAYMENT'] - prev['cnt_paid']"
   ]
  },
  {
   "cell_type": "code",
   "execution_count": 68,
   "metadata": {},
   "outputs": [],
   "source": [
    "prev['amt_paid'] = prev['AMT_ANNUITY'] * prev['cnt_paid'] # thực tế đã trả\n",
    "# prev['amt_paid_ratio'] = prev['amt_paid'] / prev['total_debt'] # same as cnt_paid_ratio\n",
    "prev['amt_unpaid'] = prev['total_debt'] - prev['amt_paid'] # chưa trả hết"
   ]
  },
  {
   "cell_type": "code",
   "execution_count": 70,
   "metadata": {},
   "outputs": [],
   "source": [
    "prev['active'] = (prev['cnt_unpaid']>0)*1 # chưa trả xong\n",
    "prev['completed'] = (prev['cnt_unpaid']==0)*1 # đã complete"
   ]
  },
  {
   "cell_type": "code",
   "execution_count": 75,
   "metadata": {},
   "outputs": [],
   "source": [
    "# future payment chạy lâu\n",
    "prev_tmp = pd.DataFrame()\n",
    "rem_max = prev['cnt_unpaid'].max() # 79 \n",
    "prev['cnt_unpaid_tmp'] = prev['cnt_unpaid']\n",
    "for i in range(int( rem_max )):\n",
    "    c = f'future_payment_{i+1}m'\n",
    "    prev_tmp[c] = prev['cnt_unpaid_tmp'].map(lambda x: min(x, 1)) * prev['AMT_ANNUITY']\n",
    "    prev_tmp.loc[prev_tmp[c]==0, c] = np.nan\n",
    "    prev['cnt_unpaid_tmp'] = prev['cnt_unpaid_tmp'].map(lambda x: max(x - 1, 0))\n",
    "\n",
    "del prev['cnt_unpaid_tmp']\n",
    "prev = pd.concat([prev, prev_tmp], axis=1)"
   ]
  },
  {
   "cell_type": "code",
   "execution_count": 105,
   "metadata": {},
   "outputs": [],
   "source": [
    "# past payment chạy lâu, tràn ram\n",
    "batch_size = 500000 # chia batch\n",
    "n = len(prev)\n",
    "\n",
    "for start in range(0, n, batch_size):\n",
    "    end = min(start + batch_size, n)\n",
    "    batch = prev.iloc[start:end]\n",
    "\n",
    "    rem_max = int(batch['cnt_paid'].max())\n",
    "    cnt_paid_matrix = np.maximum(batch['cnt_paid'].values[:, None] - np.arange(rem_max), 0)\n",
    "    cnt_paid_matrix = (cnt_paid_matrix > 0).astype(np.float32) * batch['AMT_ANNUITY'].values[:, None]\n",
    "    cnt_paid_matrix[cnt_paid_matrix == 0] = np.nan\n",
    "\n",
    "    cols = [f'past_payment_{i+1}m' for i in range(rem_max)]\n",
    "    batch_tmp = pd.DataFrame(cnt_paid_matrix, columns=cols, index=batch.index)\n",
    "    \n",
    "    batch = pd.concat([batch, batch_tmp], axis=1)\n",
    "    batch.replace(np.inf, np.nan, inplace=True)\n",
    "    batch.replace(-np.inf, np.nan, inplace=True)\n",
    "\n",
    "    batch.to_pickle(ROOT + f'/data/processed/f101_prev_batch_{start // batch_size + 1}.p')\n",
    "\n",
    "    del batch\n",
    "    gc.collect()"
   ]
  },
  {
   "cell_type": "code",
   "execution_count": 102,
   "metadata": {},
   "outputs": [],
   "source": [
    "tmp = pd.read_pickle(ROOT + \"/data/processed/prev_batch_1.p\")"
   ]
  },
  {
   "cell_type": "code",
   "execution_count": 104,
   "metadata": {},
   "outputs": [],
   "source": [
    "cache_clear()"
   ]
  }
 ],
 "metadata": {
  "kernelspec": {
   "display_name": "venv",
   "language": "python",
   "name": "python3"
  },
  "language_info": {
   "codemirror_mode": {
    "name": "ipython",
    "version": 3
   },
   "file_extension": ".py",
   "mimetype": "text/x-python",
   "name": "python",
   "nbconvert_exporter": "python",
   "pygments_lexer": "ipython3",
   "version": "3.11.2"
  }
 },
 "nbformat": 4,
 "nbformat_minor": 2
}
