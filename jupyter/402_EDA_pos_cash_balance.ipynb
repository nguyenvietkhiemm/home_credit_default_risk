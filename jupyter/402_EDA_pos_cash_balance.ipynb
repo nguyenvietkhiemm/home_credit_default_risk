{
 "cells": [
  {
   "cell_type": "code",
   "execution_count": 34,
   "metadata": {},
   "outputs": [
    {
     "data": {
      "text/plain": [
       "<module 'helpers.EDA' from 'd:\\\\Data Science\\\\helpers\\\\EDA.py'>"
      ]
     },
     "execution_count": 34,
     "metadata": {},
     "output_type": "execute_result"
    }
   ],
   "source": [
    "import pandas as pd\n",
    "import numpy as np\n",
    "import matplotlib.pyplot as plt\n",
    "import seaborn as sns\n",
    "import importlib\n",
    "import gc\n",
    "import io\n",
    "import os\n",
    "from itertools import combinations\n",
    "\n",
    "from IPython.display import display\n",
    "pd.set_option('display.max_columns', 99)\n",
    "pd.set_option('display.max_rows', 200)\n",
    "\n",
    "pd.reset_option('display.float_format')\n",
    "pd.set_option('display.max_colwidth', None)  \n",
    "\n",
    "from sitecustomize import ROOT # lib này được khởi tạo ban đầu dự án\n",
    "\n",
    "import helpers.view as view\n",
    "import helpers.EDA as EDA\n",
    "\n",
    "importlib.reload(view)\n",
    "importlib.reload(EDA)"
   ]
  },
  {
   "cell_type": "code",
   "execution_count": 35,
   "metadata": {},
   "outputs": [],
   "source": [
    "def cache_clear():\n",
    "    for var in list(globals()):  \n",
    "        if var not in _keep_vars and not var.startswith(\"_\"):  \n",
    "            del globals()[var]  \n",
    "\n",
    "    gc.collect()\n",
    "_keep_vars = set(globals().keys())  # lưu biến gốc"
   ]
  },
  {
   "cell_type": "markdown",
   "metadata": {},
   "source": [
    "# POS CASH balance (số dư khoản vay tiêu dùng - point of sale (cash loans ; comsumer loans))"
   ]
  },
  {
   "cell_type": "code",
   "execution_count": 45,
   "metadata": {},
   "outputs": [],
   "source": [
    "pos_balance = pd.read_pickle(ROOT + \"/data/pkl/pos_cash_balance.p\")"
   ]
  },
  {
   "cell_type": "markdown",
   "metadata": {},
   "source": [
    "# feature engineering"
   ]
  },
  {
   "cell_type": "code",
   "execution_count": 46,
   "metadata": {},
   "outputs": [
    {
     "name": "stderr",
     "output_type": "stream",
     "text": [
      "C:\\Users\\Admin\\AppData\\Local\\Temp\\ipykernel_24608\\1150525613.py:2: FutureWarning: Setting an item of incompatible dtype is deprecated and will raise an error in a future version of pandas. Value 'Active' has dtype incompatible with float64, please explicitly cast to a compatible dtype first.\n",
      "  pos_balance.loc[([\"NAME_CONTRACT_STATUS\"]=='Completed') & (pos_balance[\"CNT_INSTALMENT_FUTURE\"]!=0), \"CNT_INSTALMENT_FUTURE\"] = \"Active\" ####### sửa\n"
     ]
    }
   ],
   "source": [
    "pos_balance.loc[((pos_balance[\"NAME_CONTRACT_STATUS\"]=='Active') & (pos_balance[\"CNT_INSTALMENT_FUTURE\"]==0)), 'NAME_CONTRACT_STATUS'] = 'Completed' ####### sửa\n",
    "pos_balance.loc[([\"NAME_CONTRACT_STATUS\"]=='Completed') & (pos_balance[\"CNT_INSTALMENT_FUTURE\"]!=0), \"CNT_INSTALMENT_FUTURE\"] = \"Active\" ####### sửa"
   ]
  },
  {
   "cell_type": "code",
   "execution_count": 47,
   "metadata": {},
   "outputs": [],
   "source": [
    "pos_balance_0 = pos_balance[pos_balance['CNT_INSTALMENT_FUTURE']==0].copy()\n",
    "pos_balance_1 = pos_balance[pos_balance['CNT_INSTALMENT_FUTURE']>0].copy()"
   ]
  },
  {
   "cell_type": "code",
   "execution_count": 48,
   "metadata": {},
   "outputs": [],
   "source": [
    "pos_balance_0.sort_values(['SK_ID_PREV', 'MONTHS_BALANCE'], ascending=[True, False], inplace=True)"
   ]
  },
  {
   "cell_type": "code",
   "execution_count": 49,
   "metadata": {},
   "outputs": [],
   "source": [
    "pos_balance_0.drop_duplicates(['SK_ID_PREV', \"NAME_CONTRACT_STATUS\"], keep='last', inplace=True)"
   ]
  },
  {
   "cell_type": "code",
   "execution_count": 50,
   "metadata": {},
   "outputs": [],
   "source": [
    "pos_balance = pd.concat([pos_balance_0, pos_balance_1], ignore_index=True)"
   ]
  },
  {
   "cell_type": "code",
   "execution_count": 51,
   "metadata": {},
   "outputs": [],
   "source": [
    "pos_balance['CNT_INSTALMENT-s-CNT_INSTALMENT_FUTURE'] = pos_balance['CNT_INSTALMENT'] - pos_balance['CNT_INSTALMENT_FUTURE']\n",
    "pos_balance['CNT_INSTALMENT_FUTURE-d-CNT_INSTALMENT'] = pos_balance['CNT_INSTALMENT_FUTURE'] / pos_balance['CNT_INSTALMENT']"
   ]
  },
  {
   "cell_type": "code",
   "execution_count": 52,
   "metadata": {},
   "outputs": [],
   "source": [
    "pos_balance.sort_values(['SK_ID_PREV', 'MONTHS_BALANCE'], inplace=True)\n",
    "pos_balance.reset_index(drop=True, inplace=True)"
   ]
  },
  {
   "cell_type": "code",
   "execution_count": 53,
   "metadata": {},
   "outputs": [],
   "source": [
    "_keep_vars.update([\"pos_balance\"])"
   ]
  },
  {
   "cell_type": "code",
   "execution_count": null,
   "metadata": {},
   "outputs": [],
   "source": []
  },
  {
   "cell_type": "code",
   "execution_count": 54,
   "metadata": {},
   "outputs": [],
   "source": [
    "cache_clear()"
   ]
  },
  {
   "cell_type": "code",
   "execution_count": null,
   "metadata": {},
   "outputs": [],
   "source": []
  }
 ],
 "metadata": {
  "kernelspec": {
   "display_name": "venv",
   "language": "python",
   "name": "python3"
  },
  "language_info": {
   "codemirror_mode": {
    "name": "ipython",
    "version": 3
   },
   "file_extension": ".py",
   "mimetype": "text/x-python",
   "name": "python",
   "nbconvert_exporter": "python",
   "pygments_lexer": "ipython3",
   "version": "3.11.2"
  }
 },
 "nbformat": 4,
 "nbformat_minor": 2
}
